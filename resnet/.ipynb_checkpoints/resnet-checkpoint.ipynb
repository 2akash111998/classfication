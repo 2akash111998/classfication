{
 "cells": [
  {
   "cell_type": "code",
   "execution_count": null,
   "metadata": {
    "_cell_guid": "79c7e3d0-c299-4dcb-8224-4455121ee9b0",
    "_uuid": "d629ff2d2480ee46fbb7e2d37f6b5fab8052498a"
   },
   "outputs": [],
   "source": [
    "import numpy as np\n",
    "import cv2\n",
    "import os\n",
    "import tqdm\n",
    "\n",
    "import keras\n",
    "from keras.preprocessing.image import ImageDataGenerator\n",
    "from keras.models import Sequential\n",
    "from keras.models import Model\n",
    "from keras import layers\n",
    "from keras.layers import Input, Add, Dense, Activation, ZeroPadding2D, BatchNormalization, Flatten, Conv2D, AveragePooling2D, MaxPooling2D, GlobalMaxPooling2D, Dropout\n",
    "from keras.callbacks import ModelCheckpoint\n",
    "from keras.models import load_model\n",
    "from keras.initializers import glorot_uniform\n",
    "\n",
    "\n",
    "\n",
    "import matplotlib.pyplot as plt"
   ]
  },
  {
   "cell_type": "code",
   "execution_count": null,
   "metadata": {},
   "outputs": [],
   "source": [
    "train_path = '/kaggle/input/leaf-classification/dataset/train'\n",
    "test_path = '/kaggle/input/leaf-classification/dataset/test'"
   ]
  },
  {
   "cell_type": "code",
   "execution_count": null,
   "metadata": {},
   "outputs": [],
   "source": [
    "img_channels = 3\n",
    "nb_classes = 185\n",
    "batch_size = 64\n",
    "\n",
    "\n",
    "train_datagen = ImageDataGenerator(rescale=1./255)\n",
    "test_datagen = ImageDataGenerator(rescale=1./255)\n",
    "\n",
    "#height_shift_range=[-30,1], horizontal_flip=True, rotation_range=30, vertical_flip = True\n",
    "train_datagenerator = train_datagen.flow_from_directory(train_path,\n",
    "                                                      target_size = (224,224),\n",
    "                                                      batch_size = batch_size,\n",
    "                                                      class_mode = 'categorical',\n",
    "                                                      shuffle = True)\n",
    "\n",
    "validation_generator = test_datagen.flow_from_directory(test_path,\n",
    "                                                       target_size = (224,224),\n",
    "                                                       shuffle = True,\n",
    "                                                       class_mode = 'categorical')\n"
   ]
  },
  {
   "cell_type": "code",
   "execution_count": null,
   "metadata": {},
   "outputs": [],
   "source": [
    "STEP_SIZE_TRAIN=train_datagenerator.n//train_datagenerator.batch_size\n",
    "STEP_SIZE_VALID=validation_generator.n//validation_generator.batch_size"
   ]
  },
  {
   "cell_type": "markdown",
   "metadata": {},
   "source": [
    "Identity block"
   ]
  },
  {
   "cell_type": "code",
   "execution_count": null,
   "metadata": {},
   "outputs": [],
   "source": [
    "def block_1(X, f, filters, s = 2):\n",
    "\n",
    "    F1,F2,F3 = filters\n",
    "    X_shortcut = X\n",
    "    X = Conv2D(F1, (1, 1), strides = (s,s), kernel_initializer = glorot_uniform(seed=0))(X)\n",
    "    X = Activation('relu')(X)\n",
    "    X = Conv2D(filters = F2, kernel_size = (f, f), strides = (1,1), padding = 'same', kernel_initializer = glorot_uniform(seed=0))(X)\n",
    "    X = Activation('relu')(X)\n",
    "    X = Conv2D(filters = F3, kernel_size = (1, 1), strides = (1,1), padding = 'valid', kernel_initializer = glorot_uniform(seed=0))(X)\n",
    "    #shortcut \n",
    "    X_shortcut = Conv2D(filters = F3, kernel_size = (1, 1), strides = (s,s), padding = 'valid',kernel_initializer = glorot_uniform(seed=0))(X_shortcut)\n",
    "    X_shortcut = BatchNormalization(axis = 3)(X_shortcut)\n",
    "    X = Add()([X, X_shortcut])\n",
    "    X = Activation('relu')(X)\n",
    "    \n",
    "    \n",
    "    return X\n",
    "\n",
    "\n",
    "def block_2(X, f, filters):\n",
    "    \n",
    "    F1, F2, F3 = filters\n",
    "    X_shortcut = X\n",
    "    X = Conv2D(filters = F1, kernel_size = (1, 1), strides = (1,1), padding = 'valid', kernel_initializer = glorot_uniform(seed=0))(X)\n",
    "    X = Activation('relu')(X)\n",
    "    X = Conv2D(filters = F2, kernel_size = (f, f), strides = (1,1), padding = 'same', kernel_initializer = glorot_uniform(seed=0))(X)\n",
    "    X = Activation('relu')(X)\n",
    "    X = Conv2D(filters = F3, kernel_size = (1, 1), strides = (1,1), padding = 'valid', kernel_initializer = glorot_uniform(seed=0))(X)\n",
    "    X = Add()([X, X_shortcut])\n",
    "    X = Activation('relu')(X)\n",
    "    \n",
    "    \n",
    "    return X"
   ]
  },
  {
   "cell_type": "markdown",
   "metadata": {},
   "source": [
    "ResNet50"
   ]
  },
  {
   "cell_type": "code",
   "execution_count": null,
   "metadata": {},
   "outputs": [],
   "source": [
    "def ResNet50(input_shape=(224,224, 3), classes = 185):\n",
    "    \n",
    "    # Define the input as a tensor with shape input_shape\n",
    "    X_input = Input(input_shape)\n",
    "\n",
    "    # Zero-Padding\n",
    "    X = ZeroPadding2D((3, 3))(X_input)\n",
    "\n",
    "    # Stage 1\n",
    "    X = Conv2D(64, (7, 7), strides=(2, 2), name='conv1', kernel_initializer=glorot_uniform(seed=0))(X)\n",
    "    #X = BatchNormalization(axis=3, name='bn_conv1')(X)\n",
    "    X = Activation('relu')(X)\n",
    "    X = MaxPooling2D((3, 3), strides=(2, 2))(X)\n",
    "\n",
    "    # Stage 2\n",
    "    X = block_1(X, f=3, filters=[64, 64, 256], s=1)\n",
    "    X = block_2(X, 3, [64, 64, 256])\n",
    "    X = Dropout(0.2)(X)\n",
    "    X = block_2(X, 3, [64, 64, 256])\n",
    "\n",
    "    ### START CODE HERE ###\n",
    "\n",
    "    # Stage 3 (≈4 lines)\n",
    "    X = block_1(X, f = 3, filters = [128, 128, 512],s = 2)\n",
    "    X = block_2(X, 3, [128, 128, 512])\n",
    "    X = Dropout(0.2)(X)\n",
    "    X = block_2(X, 3, [128, 128, 512])\n",
    "    X = block_2(X, 3, [128, 128, 512])\n",
    "\n",
    "    # Stage 4 (≈6 lines)\n",
    "    X = block_1(X, f = 3, filters = [256, 256, 1024], s = 2)\n",
    "    X = Dropout(0.2)(X)\n",
    "    X = block_2(X, 3, [256, 256, 1024])\n",
    "    X = block_2(X, 3, [256, 256, 1024])\n",
    "    X = block_2(X, 3, [256, 256, 1024])\n",
    "    X = Dropout(0.2)(X)\n",
    "    X = block_2(X, 3, [256, 256, 1024])\n",
    "    X = block_2(X, 3, [256, 256, 1024])\n",
    "    X = Dropout(0.2)(X)\n",
    "\n",
    "    # Stage 5 (≈3 lines)\n",
    "    X = block_1(X, f = 3, filters = [512, 512, 2048], s = 2)\n",
    "    X = block_2(X, 3, [512, 512, 2048])\n",
    "    X = block_2(X, 3, [512, 512, 2048])\n",
    "\n",
    "    # AVGPOOL (≈1 line). Use \"X = AveragePooling2D(...)(X)\"\n",
    "    X = AveragePooling2D((2,2))(X)\n",
    "\n",
    "    ### END CODE HERE ###\n",
    "\n",
    "    # output layer\n",
    "    X = Flatten()(X)\n",
    "    X = Dropout(0.2)(X)\n",
    "    X = Dense(classes, activation='softmax', kernel_initializer = glorot_uniform(seed=0))(X)\n",
    "    \n",
    "    \n",
    "    # Create model\n",
    "    model = Model(inputs = X_input, outputs = X, name='ResNet50')\n",
    "\n",
    "    return model"
   ]
  },
  {
   "cell_type": "code",
   "execution_count": null,
   "metadata": {},
   "outputs": [],
   "source": [
    "model = ResNet50(input_shape = (224, 224, 3), classes = 185)"
   ]
  },
  {
   "cell_type": "code",
   "execution_count": null,
   "metadata": {},
   "outputs": [],
   "source": [
    "for layer in model.layers:\n",
    "    layer.trainable = True"
   ]
  },
  {
   "cell_type": "code",
   "execution_count": null,
   "metadata": {},
   "outputs": [],
   "source": [
    "es = keras.callbacks.EarlyStopping(monitor = 'val_loss', patience = 5, verbose = 1)\n",
    "'''\n",
    "saves the model weights after each epoch if the validation loss decreased\n",
    "'''\n",
    "checkpointer = ModelCheckpoint(filepath='model.h5',monitor = 'val_loss', verbose=1, save_best_only=True)\n",
    "\n",
    "#Lr = CyclicLR(base_lr = 0.00001, max_lr = 0.0001, step_size = 2 * STEP_SIZE_TRAIN, mode = 'traingular2')"
   ]
  },
  {
   "cell_type": "code",
   "execution_count": null,
   "metadata": {},
   "outputs": [],
   "source": [
    "#compile model using accuracy to measure model performance\n",
    "model.compile(optimizer = keras.optimizers.Adam(lr = 0.001),\n",
    "              loss='categorical_crossentropy', metrics=['accuracy',])\n",
    "\n",
    "history = model.fit_generator(generator=train_datagenerator,\n",
    "                    steps_per_epoch=STEP_SIZE_TRAIN,\n",
    "                    validation_data=validation_generator,\n",
    "                    validation_steps=STEP_SIZE_VALID,\n",
    "                    epochs=30,\n",
    "                             callbacks = [es])"
   ]
  },
  {
   "cell_type": "code",
   "execution_count": null,
   "metadata": {},
   "outputs": [],
   "source": [
    "#compile model using accuracy to measure model performance\n",
    "model.compile(optimizer = keras.optimizers.Adam(lr = 0.0001),\n",
    "              loss='categorical_crossentropy', metrics=['accuracy',])\n",
    "\n",
    "history = model.fit_generator(generator=train_datagenerator,\n",
    "                    steps_per_epoch=STEP_SIZE_TRAIN,\n",
    "                    validation_data=validation_generator,\n",
    "                    validation_steps=STEP_SIZE_VALID,\n",
    "                    epochs=25,\n",
    "                             callbacks = [es, checkpointer])"
   ]
  }
 ],
 "metadata": {
  "kernelspec": {
   "display_name": "Python 3",
   "language": "python",
   "name": "python3"
  },
  "language_info": {
   "codemirror_mode": {
    "name": "ipython",
    "version": 3
   },
   "file_extension": ".py",
   "mimetype": "text/x-python",
   "name": "python",
   "nbconvert_exporter": "python",
   "pygments_lexer": "ipython3",
   "version": "3.7.3"
  }
 },
 "nbformat": 4,
 "nbformat_minor": 1
}
