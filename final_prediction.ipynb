{
 "cells": [
  {
   "cell_type": "code",
   "execution_count": 91,
   "metadata": {
    "_cell_guid": "79c7e3d0-c299-4dcb-8224-4455121ee9b0",
    "_uuid": "d629ff2d2480ee46fbb7e2d37f6b5fab8052498a"
   },
   "outputs": [],
   "source": [
    "import numpy as np\n",
    "import cv2\n",
    "import os\n",
    "import tqdm\n",
    "\n",
    "import keras\n",
    "from keras.preprocessing.image import ImageDataGenerator\n",
    "from keras.models import Model\n",
    "from keras.models import load_model\n"
   ]
  },
  {
   "cell_type": "code",
   "execution_count": 103,
   "metadata": {},
   "outputs": [],
   "source": [
    "test_path = '/kaggle/input/leaf-classification/dataset/test'\n",
    "path_res_model = '/kaggle/input/reg-resnet50/reg_model.h5'\n",
    "path_custom_model = '/kaggle/input/custom-model-file/leaf_reco.h5'"
   ]
  },
  {
   "cell_type": "code",
   "execution_count": 115,
   "metadata": {},
   "outputs": [
    {
     "name": "stdout",
     "output_type": "stream",
     "text": [
      "Found 3090 images belonging to 185 classes.\n",
      "Found 3090 images belonging to 185 classes.\n",
      "Found 3090 images belonging to 185 classes.\n"
     ]
    }
   ],
   "source": [
    "\n",
    "batch_size_res = 64\n",
    "batch_size_custom = 8\n",
    "\n",
    "\n",
    "test_datagen = ImageDataGenerator(rescale=1./255, )\n",
    "\n",
    "test_datagen_tta = ImageDataGenerator(rescale=1./255,  horizontal_flip=True, \n",
    "                                      vertical_flip=True,  \n",
    "                                      brightness_range=[0.5,1.0])\n",
    "\n",
    "\n",
    "validation_generator_custom = test_datagen.flow_from_directory(test_path,\n",
    "                                                       target_size = (64,64),\n",
    "                                                       shuffle = False,\n",
    "                                                        batch_size = batch_size_custom,\n",
    "                                                       class_mode = 'categorical')\n",
    "\n",
    "validation_generator_res = test_datagen.flow_from_directory(test_path,\n",
    "                                                       target_size = (224,224),\n",
    "                                                       shuffle = False,\n",
    "                                                        batch_size = batch_size_res,\n",
    "                                                       class_mode = 'categorical')\n",
    "\n",
    "validation_generator_res_tta = test_datagen_tta.flow_from_directory(test_path,\n",
    "                                                       target_size = (224,224),\n",
    "                                                       shuffle = False,\n",
    "                                                        batch_size = batch_size_res,\n",
    "                                                       class_mode = 'categorical')"
   ]
  },
  {
   "cell_type": "code",
   "execution_count": 116,
   "metadata": {},
   "outputs": [],
   "source": [
    "STEP_SIZE_VALID_res=validation_generator_res.n//validation_generator_res.batch_size\n",
    "STEP_SIZE_VALID_custom=validation_generator_custom.n//validation_generator_custom.batch_size"
   ]
  },
  {
   "cell_type": "code",
   "execution_count": 106,
   "metadata": {},
   "outputs": [],
   "source": [
    "res_model = load_model(path_res_model)\n",
    "custom_model = load_model(path_custom_model)"
   ]
  },
  {
   "cell_type": "code",
   "execution_count": 107,
   "metadata": {},
   "outputs": [
    {
     "name": "stdout",
     "output_type": "stream",
     "text": [
      "Loss of ResNet:  0.4060330390930176\n",
      "Score of ResNet without TTA :  0.8776041865348816\n"
     ]
    }
   ],
   "source": [
    "score_res = res_model.evaluate_generator(validation_generator_res, STEP_SIZE_VALID_res)\n",
    "print('Loss of ResNet: ', score_res[0])\n",
    "print('Score of ResNet without TTA : ', score_res[1]*100)"
   ]
  },
  {
   "cell_type": "code",
   "execution_count": 117,
   "metadata": {},
   "outputs": [
    {
     "name": "stdout",
     "output_type": "stream",
     "text": [
      "Loss of Custom Model:  1.35764479637146\n",
      "Score of Custom Model:  83.4520697593689\n"
     ]
    }
   ],
   "source": [
    "score_custom = custom_model.evaluate_generator(validation_generator_custom, STEP_SIZE_VALID_custom)\n",
    "print('Loss of Custom Model: ', score_custom[0])\n",
    "print('Score of Custom Model: ', score_custom[1]*100)"
   ]
  },
  {
   "cell_type": "markdown",
   "metadata": {},
   "source": [
    "**TTA of ResNet**"
   ]
  },
  {
   "cell_type": "code",
   "execution_count": 118,
   "metadata": {},
   "outputs": [],
   "source": [
    "#True prediction\n",
    "y_val = validation_generator_custom.classes"
   ]
  },
  {
   "cell_type": "code",
   "execution_count": 119,
   "metadata": {},
   "outputs": [
    {
     "name": "stderr",
     "output_type": "stream",
     "text": [
      "\r",
      "  0%|          | 0/2 [00:00<?, ?it/s]"
     ]
    },
    {
     "name": "stdout",
     "output_type": "stream",
     "text": [
      "49/49 [==============================] - 14s 289ms/step\n"
     ]
    },
    {
     "name": "stderr",
     "output_type": "stream",
     "text": [
      "\r",
      " 50%|█████     | 1/2 [00:14<00:14, 14.18s/it]"
     ]
    },
    {
     "name": "stdout",
     "output_type": "stream",
     "text": [
      "49/49 [==============================] - 13s 275ms/step\n"
     ]
    },
    {
     "name": "stderr",
     "output_type": "stream",
     "text": [
      "100%|██████████| 2/2 [00:27<00:00, 13.84s/it]"
     ]
    },
    {
     "name": "stdout",
     "output_type": "stream",
     "text": [
      "Accuracy after TTA in ResNet :  0.8750809061488674\n"
     ]
    },
    {
     "name": "stderr",
     "output_type": "stream",
     "text": [
      "\n"
     ]
    }
   ],
   "source": [
    "tta_steps = 2\n",
    "prediction = []\n",
    "\n",
    "#getting 10 sets of predictions\n",
    "for i in tqdm.tqdm(range(tta_steps)):\n",
    "    preds = res_model.predict_generator(validation_generator_res_tta, verbose = 1)\n",
    "    prediction.append(preds)\n",
    "\n",
    "#averaging them\n",
    "preds = np.mean(prediction, axis = 0)\n",
    "\n",
    "print('Accuracy after TTA in ResNet : ', np.mean(np.equal(y_val, np.argmax(preds,axis = -1))))"
   ]
  },
  {
   "cell_type": "markdown",
   "metadata": {},
   "source": [
    "**Ensembling**"
   ]
  },
  {
   "cell_type": "code",
   "execution_count": 120,
   "metadata": {},
   "outputs": [
    {
     "name": "stdout",
     "output_type": "stream",
     "text": [
      "387/387 [==============================] - 7s 19ms/step\n"
     ]
    }
   ],
   "source": [
    "#using prediction from TTA for ResNet\n",
    "preds_res = np.mean(prediction, axis = 0)\n",
    "#getting prediction for custom model\n",
    "preds_custom = custom_model.predict_generator(validation_generator_custom, verbose = 1)"
   ]
  },
  {
   "cell_type": "markdown",
   "metadata": {},
   "source": [
    "**Soft Voting Scheme**"
   ]
  },
  {
   "cell_type": "code",
   "execution_count": 121,
   "metadata": {},
   "outputs": [],
   "source": [
    "preds_final= (preds_res +  preds_custom)/2.0"
   ]
  },
  {
   "cell_type": "code",
   "execution_count": 122,
   "metadata": {},
   "outputs": [
    {
     "name": "stdout",
     "output_type": "stream",
     "text": [
      "Final Accuracy after ensembling :  0.9022653721682848\n"
     ]
    }
   ],
   "source": [
    "print('Final Accuracy after ensembling : ',np.mean(np.equal(y_val, np.argmax(preds_final,axis = -1))))"
   ]
  },
  {
   "cell_type": "code",
   "execution_count": null,
   "metadata": {},
   "outputs": [],
   "source": []
  }
 ],
 "metadata": {
  "kernelspec": {
   "display_name": "Python 3",
   "language": "python",
   "name": "python3"
  },
  "language_info": {
   "codemirror_mode": {
    "name": "ipython",
    "version": 3
   },
   "file_extension": ".py",
   "mimetype": "text/x-python",
   "name": "python",
   "nbconvert_exporter": "python",
   "pygments_lexer": "ipython3",
   "version": "3.7.3"
  }
 },
 "nbformat": 4,
 "nbformat_minor": 1
}
